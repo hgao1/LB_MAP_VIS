{
 "cells": [
  {
   "cell_type": "markdown",
   "id": "f7d9f7ea",
   "metadata": {},
   "source": [
    "# Load in the data:"
   ]
  },
  {
   "cell_type": "code",
   "execution_count": 1,
   "id": "a5009ccf",
   "metadata": {},
   "outputs": [],
   "source": [
    "import numpy as np\n",
    "import pandas as pd"
   ]
  },
  {
   "cell_type": "code",
   "execution_count": 2,
   "id": "5635c055",
   "metadata": {},
   "outputs": [],
   "source": [
    "data = pd.read_csv(\"Numbers_Data.csv\", index_col = 0)"
   ]
  },
  {
   "cell_type": "code",
   "execution_count": 3,
   "id": "9a8d88be",
   "metadata": {},
   "outputs": [],
   "source": [
    "#Assign vars to the avg # of children for Gr 1-6: \n",
    "b_num_avg = data[\"beirut\"][[\"GR16_Y1\", \"GR16_Y3\", \"GR16_Y4\",\"GR16_Y6\", \"GR16_Y7\"]].to_numpy()\n",
    "ba_num_avg = data[\"baalbek\"][[\"GR16_Y1\", \"GR16_Y3\", \"GR16_Y4\",\"GR16_Y6\", \"GR16_Y7\"]].to_numpy()\n",
    "n_num_avg = data[\"north\"][[\"GR16_Y1\", \"GR16_Y3\", \"GR16_Y4\",\"GR16_Y6\", \"GR16_Y7\"]].to_numpy()\n",
    "bq_num_avg = data[\"beqaa\"][[\"GR16_Y1\", \"GR16_Y3\", \"GR16_Y4\",\"GR16_Y6\", \"GR16_Y7\"]].to_numpy()\n",
    "a_num_avg = data[\"aakar\"][[\"GR16_Y1\", \"GR16_Y3\", \"GR16_Y4\",\"GR16_Y6\", \"GR16_Y7\"]].to_numpy()\n",
    "s_num_avg = data[\"south\"][[\"GR16_Y1\", \"GR16_Y3\", \"GR16_Y4\",\"GR16_Y6\", \"GR16_Y7\"]].to_numpy()\n",
    "mt_num_avg = data[\"mount\"][[\"GR16_Y1\", \"GR16_Y3\", \"GR16_Y4\",\"GR16_Y6\", \"GR16_Y7\"]].to_numpy()\n",
    "nb_num_avg = data[\"nabatieh\"][[\"GR16_Y1\", \"GR16_Y3\", \"GR16_Y4\",\"GR16_Y6\", \"GR16_Y7\"]].to_numpy()"
   ]
  },
  {
   "cell_type": "code",
   "execution_count": 4,
   "id": "5bc34c5a",
   "metadata": {},
   "outputs": [],
   "source": [
    "#Assign vars to the avg # of non Lebanese students: \n",
    "b_nls_avg = data[\"beirut\"][['NLG16_Y1','NLG16_Y3','NLG16_Y4','NLG16_Y6','NLG16_Y7']].to_numpy()\n",
    "ba_nls_avg = data[\"baalbek\"][['NLG16_Y1','NLG16_Y3','NLG16_Y4','NLG16_Y6','NLG16_Y7']].to_numpy()\n",
    "n_nls_avg = data[\"north\"][['NLG16_Y1','NLG16_Y3','NLG16_Y4','NLG16_Y6','NLG16_Y7']].to_numpy()\n",
    "bq_nls_avg = data[\"beqaa\"][['NLG16_Y1','NLG16_Y3','NLG16_Y4','NLG16_Y6','NLG16_Y7']].to_numpy()\n",
    "a_nls_avg = data[\"aakar\"][['NLG16_Y1','NLG16_Y3','NLG16_Y4','NLG16_Y6','NLG16_Y7']].to_numpy()\n",
    "s_nls_avg = data[\"south\"][['NLG16_Y1','NLG16_Y3','NLG16_Y4','NLG16_Y6','NLG16_Y7']].to_numpy()\n",
    "mt_nls_avg = data[\"mount\"][['NLG16_Y1','NLG16_Y3','NLG16_Y4','NLG16_Y6','NLG16_Y7']].to_numpy()\n",
    "nb_nls_avg = data[\"nabatieh\"][['NLG16_Y1','NLG16_Y3','NLG16_Y4','NLG16_Y6','NLG16_Y7']].to_numpy()"
   ]
  },
  {
   "cell_type": "code",
   "execution_count": 5,
   "id": "b9683fea",
   "metadata": {},
   "outputs": [],
   "source": [
    "#Assign vars to the avg # of Lebanese students: \n",
    "b_ls_avg = data[\"beirut\"][['LSG16_Y1','LSG16_Y3','LSG16_Y4','LSG16_Y6','LSG16_Y7']].to_numpy()\n",
    "ba_ls_avg = data[\"baalbek\"][['LSG16_Y1','LSG16_Y3','LSG16_Y4','LSG16_Y6','LSG16_Y7']].to_numpy()\n",
    "n_ls_avg = data[\"north\"][['LSG16_Y1','LSG16_Y3','LSG16_Y4','LSG16_Y6','LSG16_Y7']].to_numpy()\n",
    "bq_ls_avg = data[\"beqaa\"][['LSG16_Y1','LSG16_Y3','LSG16_Y4','LSG16_Y6','LSG16_Y7']].to_numpy()\n",
    "a_ls_avg = data[\"aakar\"][['LSG16_Y1','LSG16_Y3','LSG16_Y4','LSG16_Y6','LSG16_Y7']].to_numpy()\n",
    "s_ls_avg = data[\"south\"][['LSG16_Y1','LSG16_Y3','LSG16_Y4','LSG16_Y6','LSG16_Y7']].to_numpy()\n",
    "mt_ls_avg = data[\"mount\"][['LSG16_Y1','LSG16_Y3','LSG16_Y4','LSG16_Y6','LSG16_Y7']].to_numpy()\n",
    "nb_ls_avg = data[\"nabatieh\"][['LSG16_Y1','LSG16_Y3','LSG16_Y4','LSG16_Y6','LSG16_Y7']].to_numpy()"
   ]
  },
  {
   "cell_type": "code",
   "execution_count": 6,
   "id": "7c3017c9",
   "metadata": {},
   "outputs": [
    {
     "data": {
      "text/html": [
       "<div>\n",
       "<style scoped>\n",
       "    .dataframe tbody tr th:only-of-type {\n",
       "        vertical-align: middle;\n",
       "    }\n",
       "\n",
       "    .dataframe tbody tr th {\n",
       "        vertical-align: top;\n",
       "    }\n",
       "\n",
       "    .dataframe thead th {\n",
       "        text-align: right;\n",
       "    }\n",
       "</style>\n",
       "<table border=\"1\" class=\"dataframe\">\n",
       "  <thead>\n",
       "    <tr style=\"text-align: right;\">\n",
       "      <th></th>\n",
       "      <th>NAME</th>\n",
       "      <th>Grades 1-6</th>\n",
       "      <th>Non-Lebanese Students</th>\n",
       "      <th>Lebanese Students</th>\n",
       "    </tr>\n",
       "  </thead>\n",
       "  <tbody>\n",
       "    <tr>\n",
       "      <th>0</th>\n",
       "      <td>Beirut Governorate</td>\n",
       "      <td>[222.7741935483871, 239.48387096774192, 244.25...</td>\n",
       "      <td>[98.36666666666666, 110.25806451612904, 114.70...</td>\n",
       "      <td>[131.83333333333334, 129.2258064516129, 129.54...</td>\n",
       "    </tr>\n",
       "    <tr>\n",
       "      <th>1</th>\n",
       "      <td>Baalbek-Hermel Governorate</td>\n",
       "      <td>[101.14942528735632, 125.31395348837208, 128.5...</td>\n",
       "      <td>[29.795180722891565, 39.46511627906977, 39.290...</td>\n",
       "      <td>[76.2289156626506, 85.84883720930233, 90.76744...</td>\n",
       "    </tr>\n",
       "    <tr>\n",
       "      <th>2</th>\n",
       "      <td>North Governorate</td>\n",
       "      <td>[172.96153846153845, 182.58333333333331, 182.0...</td>\n",
       "      <td>[25.927777777777777, 33.861111111111114, 33.67...</td>\n",
       "      <td>[148.95555555555555, 148.72222222222223, 150.3...</td>\n",
       "    </tr>\n",
       "    <tr>\n",
       "      <th>3</th>\n",
       "      <td>Beqaa Governorate</td>\n",
       "      <td>[118.8876404494382, 136.816091954023, 136.5617...</td>\n",
       "      <td>[38.57954545454545, 45.28735632183908, 42.4545...</td>\n",
       "      <td>[81.6590909090909, 91.52873563218392, 95.65909...</td>\n",
       "    </tr>\n",
       "    <tr>\n",
       "      <th>4</th>\n",
       "      <td>Akkar</td>\n",
       "      <td>[152.16176470588235, 171.1417910447761, 165.59...</td>\n",
       "      <td>[20.38167938931298, 26.94776119402985, 24.3555...</td>\n",
       "      <td>[137.587786259542, 144.19402985074626, 142.466...</td>\n",
       "    </tr>\n",
       "    <tr>\n",
       "      <th>5</th>\n",
       "      <td>South Governorate</td>\n",
       "      <td>[154.58715596330276, 183.8148148148148, 188.29...</td>\n",
       "      <td>[39.9245283018868, 59.50925925925926, 62.15740...</td>\n",
       "      <td>[119.0377358490566, 124.30555555555556, 127.87...</td>\n",
       "    </tr>\n",
       "    <tr>\n",
       "      <th>6</th>\n",
       "      <td>Mount Lebanon Governorate</td>\n",
       "      <td>[115.85106382978724, 128.33870967741936, 125.2...</td>\n",
       "      <td>[45.89784946236559, 51.08064516129032, 42.9569...</td>\n",
       "      <td>[71.1989247311828, 77.25806451612904, 83.68817...</td>\n",
       "    </tr>\n",
       "    <tr>\n",
       "      <th>7</th>\n",
       "      <td>Nabatieh Governorate</td>\n",
       "      <td>[98.55445544554456, 125.78947368421052, 125.69...</td>\n",
       "      <td>[23.70212765957447, 36.45263157894737, 37.1935...</td>\n",
       "      <td>[82.19148936170212, 89.33684210526316, 99.3118...</td>\n",
       "    </tr>\n",
       "  </tbody>\n",
       "</table>\n",
       "</div>"
      ],
      "text/plain": [
       "                         NAME  \\\n",
       "0          Beirut Governorate   \n",
       "1  Baalbek-Hermel Governorate   \n",
       "2           North Governorate   \n",
       "3           Beqaa Governorate   \n",
       "4                       Akkar   \n",
       "5           South Governorate   \n",
       "6   Mount Lebanon Governorate   \n",
       "7        Nabatieh Governorate   \n",
       "\n",
       "                                          Grades 1-6  \\\n",
       "0  [222.7741935483871, 239.48387096774192, 244.25...   \n",
       "1  [101.14942528735632, 125.31395348837208, 128.5...   \n",
       "2  [172.96153846153845, 182.58333333333331, 182.0...   \n",
       "3  [118.8876404494382, 136.816091954023, 136.5617...   \n",
       "4  [152.16176470588235, 171.1417910447761, 165.59...   \n",
       "5  [154.58715596330276, 183.8148148148148, 188.29...   \n",
       "6  [115.85106382978724, 128.33870967741936, 125.2...   \n",
       "7  [98.55445544554456, 125.78947368421052, 125.69...   \n",
       "\n",
       "                               Non-Lebanese Students  \\\n",
       "0  [98.36666666666666, 110.25806451612904, 114.70...   \n",
       "1  [29.795180722891565, 39.46511627906977, 39.290...   \n",
       "2  [25.927777777777777, 33.861111111111114, 33.67...   \n",
       "3  [38.57954545454545, 45.28735632183908, 42.4545...   \n",
       "4  [20.38167938931298, 26.94776119402985, 24.3555...   \n",
       "5  [39.9245283018868, 59.50925925925926, 62.15740...   \n",
       "6  [45.89784946236559, 51.08064516129032, 42.9569...   \n",
       "7  [23.70212765957447, 36.45263157894737, 37.1935...   \n",
       "\n",
       "                                   Lebanese Students  \n",
       "0  [131.83333333333334, 129.2258064516129, 129.54...  \n",
       "1  [76.2289156626506, 85.84883720930233, 90.76744...  \n",
       "2  [148.95555555555555, 148.72222222222223, 150.3...  \n",
       "3  [81.6590909090909, 91.52873563218392, 95.65909...  \n",
       "4  [137.587786259542, 144.19402985074626, 142.466...  \n",
       "5  [119.0377358490566, 124.30555555555556, 127.87...  \n",
       "6  [71.1989247311828, 77.25806451612904, 83.68817...  \n",
       "7  [82.19148936170212, 89.33684210526316, 99.3118...  "
      ]
     },
     "execution_count": 6,
     "metadata": {},
     "output_type": "execute_result"
    }
   ],
   "source": [
    "#Create the correct dataframe: \n",
    "df = [['Beirut Governorate', b_num_avg,b_nls_avg,b_ls_avg], \n",
    "        ['Baalbek-Hermel Governorate',ba_num_avg, ba_nls_avg,ba_ls_avg],\n",
    "        ['North Governorate',n_num_avg,n_nls_avg,n_ls_avg],\n",
    "        ['Beqaa Governorate',bq_num_avg,bq_nls_avg,bq_ls_avg],\n",
    "        ['Akkar',a_num_avg,a_nls_avg,a_ls_avg],\n",
    "        ['South Governorate',s_num_avg,s_nls_avg,s_ls_avg],\n",
    "        ['Mount Lebanon Governorate',mt_num_avg,mt_nls_avg,mt_ls_avg],\n",
    "        ['Nabatieh Governorate',nb_num_avg,nb_nls_avg,nb_ls_avg]]\n",
    "data= pd.DataFrame(df, columns=['NAME', 'Grades 1-6', 'Non-Lebanese Students', 'Lebanese Students'])\n",
    "data"
   ]
  },
  {
   "cell_type": "markdown",
   "id": "31d244f9",
   "metadata": {},
   "source": [
    "# Creating the map with govenorates"
   ]
  },
  {
   "cell_type": "code",
   "execution_count": 7,
   "id": "45399a82",
   "metadata": {},
   "outputs": [],
   "source": [
    "from ipyleaflet import (Map, GeoData, basemaps, WidgetControl, GeoJSON,\n",
    " LayersControl, Icon, Marker,basemap_to_tiles, Choropleth,\n",
    " MarkerCluster, Heatmap,SearchControl, \n",
    " FullScreenControl,Popup)\n",
    "from ipywidgets import Text, HTML\n",
    "from branca.colormap import linear\n",
    "import geopandas as gpd\n",
    "import osmium\n",
    "import shapely.wkb\n",
    "import json"
   ]
  },
  {
   "cell_type": "code",
   "execution_count": 8,
   "id": "a531f042",
   "metadata": {},
   "outputs": [],
   "source": [
    "# Initialize map: \n",
    "center = (33.8938, 35.5018)\n",
    "m = Map(center=center, zoom = 10)\n",
    "\n",
    "# Pull out the specific region\n",
    "region = \"lebanon\"\n",
    "def merge_two_dicts(x, y):\n",
    "    z = x.copy()   # start with keys and values of x\n",
    "    z.update(y)    # modifies z with keys and values of y\n",
    "    return z\n",
    "class AdminAreaHandler(osmium.SimpleHandler):\n",
    "    def __init__(self):\n",
    "        osmium.SimpleHandler.__init__(self)\n",
    "\n",
    "        self.areas = []\n",
    "        self.wkbfab = osmium.geom.WKBFactory()\n",
    "\n",
    "    def area(self, a):            \n",
    "        if  \"admin_level\" in a.tags:\n",
    "\n",
    "            wkbshape = self.wkbfab.create_multipolygon(a)\n",
    "            shapely_obj = shapely.wkb.loads(wkbshape, hex=True)\n",
    "            \n",
    "            area = { \"id\": a.id, \"geo\": shapely_obj }\n",
    "            area = merge_two_dicts(area, a.tags)\n",
    "            \n",
    "            self.areas.append(area)\n",
    "        \n",
    "handler = AdminAreaHandler()\n",
    "osm_file = f\"./GeoData/lebanon-latest.osm\"\n",
    "handler.apply_file(osm_file, locations=True, idx='flex_mem')\n",
    "df = pd.DataFrame(handler.areas)\n",
    "gdf = gpd.GeoDataFrame(df, geometry=\"geo\")\n",
    "\n",
    "#Specify that you are looking for govenorates: \n",
    "in_lebanon = gdf[gdf.admin_level == \"4\"]\n",
    "gov = in_lebanon[[\"geo\", \"name:en\"]]"
   ]
  },
  {
   "cell_type": "code",
   "execution_count": 9,
   "id": "bcc64e72",
   "metadata": {},
   "outputs": [],
   "source": [
    "# This current geodataframe misses the Akkar region. \n",
    "# We have found it via a diffferent method and are importing it here: \n",
    "x = gpd.read_file(\"GeoData/akkar_fixed.shp\")\n",
    "x[\"name:en\"]= \"Akkar\"\n",
    "x = x[[\"geometry\", \"name:en\"]]\n",
    "x = x.rename_geometry('geo')"
   ]
  },
  {
   "cell_type": "code",
   "execution_count": 10,
   "id": "33ca1135",
   "metadata": {},
   "outputs": [
    {
     "name": "stderr",
     "output_type": "stream",
     "text": [
      "/opt/homebrew/lib/python3.9/site-packages/geopandas/array.py:1406: UserWarning: CRS not set for some of the concatenation inputs. Setting output's CRS as WGS 84 (the single non-null crs provided).\n",
      "  warnings.warn(\n"
     ]
    }
   ],
   "source": [
    "# Make geodata that combines the two \n",
    "#(for successful mapping and hovering feature)\n",
    "# There\n",
    "overall = pd.concat( [gov,x], ignore_index=True)\n",
    "\n",
    "# Create a geodataframe\n",
    "geodata_all = GeoData(geo_dataframe = overall, \n",
    "                        style={\"color\": \"black\", \"fillColor\": \"#E0D071\", \"opacity\":0.03, \"weight\":1.9, \"dashArray\":\"2\", \"fillOpacity\":0.6},\n",
    "                        hover_style={\"fillColor\": \"#b08a3e\" , \"fillOpacity\": 1.0},\n",
    "                        name = \"Countries\")\n",
    "# Add this layer onto the map\n",
    "m.add_layer(geodata_all)"
   ]
  },
  {
   "cell_type": "code",
   "execution_count": 11,
   "id": "4e192f47",
   "metadata": {},
   "outputs": [
    {
     "data": {
      "application/vnd.jupyter.widget-view+json": {
       "model_id": "d76b23ae8cde4a52bf60eeb393d6e354",
       "version_major": 2,
       "version_minor": 0
      },
      "text/plain": [
       "Map(center=[33.8938, 35.5018], controls=(ZoomControl(options=['position', 'zoom_in_text', 'zoom_in_title', 'zo…"
      ]
     },
     "metadata": {},
     "output_type": "display_data"
    }
   ],
   "source": [
    "# You should see a map that has hoverable regions\n",
    "m"
   ]
  },
  {
   "cell_type": "markdown",
   "id": "61652991",
   "metadata": {},
   "source": [
    "# Now we create an updateable map:"
   ]
  },
  {
   "cell_type": "code",
   "execution_count": 12,
   "id": "55e4ed19",
   "metadata": {},
   "outputs": [],
   "source": [
    "import bqplot.pyplot as bplt\n",
    "from bqplot import Lines, Figure, LinearScale, DateScale, Axis, OrdinalScale"
   ]
  },
  {
   "cell_type": "code",
   "execution_count": 13,
   "id": "b365a628",
   "metadata": {},
   "outputs": [],
   "source": [
    "gov_name = \"Beirut Governorate\"\n",
    "data_name = \"Grades 1-6\"\n",
    "linear_data = ['Y1', 'Y3','Y4','Y6','Y7']\n",
    "x_data = data[data.NAME == gov_name][data_name].values[0]"
   ]
  },
  {
   "cell_type": "code",
   "execution_count": 14,
   "id": "76eef93d",
   "metadata": {},
   "outputs": [
    {
     "data": {
      "application/vnd.jupyter.widget-view+json": {
       "model_id": "9009120191014c19894c10c7bf1f622f",
       "version_major": 2,
       "version_minor": 0
      },
      "text/plain": [
       "Figure(animation_duration=500, axes=[Axis(label='Year', scale=OrdinalScale()), Axis(label='No. of Students', o…"
      ]
     },
     "metadata": {},
     "output_type": "display_data"
    }
   ],
   "source": [
    "fig = bplt.figure(title=gov_name)\n",
    "\n",
    "line = bplt.plot(x=np.array(linear_data), y=x_data, colors = [\"purple\"])\n",
    "\n",
    "bplt.xlabel(\"Year\")\n",
    "bplt.ylabel(\"No. of Students\")\n",
    "fig.animation_duration = 500\n",
    "fig.layout.max_height = '250px'\n",
    "fig.layout.max_width = '400px'\n",
    "fig"
   ]
  },
  {
   "cell_type": "code",
   "execution_count": 15,
   "id": "fcba6267",
   "metadata": {},
   "outputs": [],
   "source": [
    "def update_figure(gov_name, data_name):\n",
    "    try:\n",
    "        line.y = data[data.NAME == gov_name][data_name].values[0]\n",
    "        fig.title = gov_name\n",
    "    except Exception:\n",
    "        pass"
   ]
  },
  {
   "cell_type": "code",
   "execution_count": 16,
   "id": "cd0db958",
   "metadata": {},
   "outputs": [],
   "source": [
    "# This should update the graph above to represent Akkar\n",
    "update_figure('Akkar',\"Grades 1-6\")"
   ]
  },
  {
   "cell_type": "markdown",
   "id": "85c4fc03",
   "metadata": {},
   "source": [
    "# Integrating map functionality: "
   ]
  },
  {
   "cell_type": "code",
   "execution_count": 17,
   "id": "e143aeb2",
   "metadata": {},
   "outputs": [],
   "source": [
    "widget_control1 = WidgetControl(widget=fig, position=\"bottomright\")\n",
    "\n",
    "m.add(widget_control1)\n",
    "\n",
    "\n",
    "def on_hover(event, feature, **kwargs):\n",
    "    global gov_name\n",
    "    try: \n",
    "        gov_name = feature[\"properties\"][\"name:en\"]\n",
    "        update_figure(gov_name, data_name)\n",
    "    except Exception: \n",
    "        pass\n",
    "geodata_all.on_hover(on_hover)\n",
    "\n",
    "from ipywidgets import Dropdown\n",
    "dropdown = Dropdown(\n",
    "    options=[\"Grades 1-6\", 'Non-Lebanese Students', 'Lebanese Students'],\n",
    "    value=data_name,\n",
    "    description=\"Plotting:\",\n",
    ")\n",
    "\n",
    "\n",
    "def on_click(change):\n",
    "    global data_name\n",
    "    try: \n",
    "        data_name = change[\"new\"]\n",
    "        update_figure(country_name, data_name)\n",
    "    except Exception:\n",
    "        pass\n",
    "\n",
    "\n",
    "dropdown.observe(on_click, \"value\")\n",
    "\n",
    "widget_control2 = WidgetControl(widget=dropdown, position=\"bottomleft\")\n"
   ]
  },
  {
   "cell_type": "code",
   "execution_count": 18,
   "id": "fcd35194",
   "metadata": {},
   "outputs": [
    {
     "data": {
      "application/vnd.jupyter.widget-view+json": {
       "model_id": "d76b23ae8cde4a52bf60eeb393d6e354",
       "version_major": 2,
       "version_minor": 0
      },
      "text/plain": [
       "Map(center=[33.8938, 35.5018], controls=(ZoomControl(options=['position', 'zoom_in_text', 'zoom_in_title', 'zo…"
      ]
     },
     "metadata": {},
     "output_type": "display_data"
    }
   ],
   "source": [
    "m.add(widget_control2)"
   ]
  },
  {
   "cell_type": "markdown",
   "id": "70824339",
   "metadata": {},
   "source": [
    "# If you have run all of the cells, run the below to just get the map components:"
   ]
  },
  {
   "cell_type": "code",
   "execution_count": 19,
   "id": "f51ab334",
   "metadata": {},
   "outputs": [
    {
     "data": {
      "application/vnd.jupyter.widget-view+json": {
       "model_id": "b591d04c00b74189a2c043fdd866dd6c",
       "version_major": 2,
       "version_minor": 0
      },
      "text/plain": [
       "Map(center=[33.8938, 35.5018], controls=(ZoomControl(options=['position', 'zoom_in_text', 'zoom_in_title', 'zo…"
      ]
     },
     "metadata": {},
     "output_type": "display_data"
    }
   ],
   "source": [
    "center = (33.8938, 35.5018)\n",
    "m = Map(center=center, zoom = 10)\n",
    "m.add_layer(geodata_all)\n",
    "m.add(widget_control1)\n",
    "m.add(widget_control2)"
   ]
  },
  {
   "cell_type": "code",
   "execution_count": null,
   "id": "ad25f19d",
   "metadata": {},
   "outputs": [],
   "source": []
  }
 ],
 "metadata": {
  "kernelspec": {
   "display_name": "Python 3 (ipykernel)",
   "language": "python",
   "name": "python3"
  },
  "language_info": {
   "codemirror_mode": {
    "name": "ipython",
    "version": 3
   },
   "file_extension": ".py",
   "mimetype": "text/x-python",
   "name": "python",
   "nbconvert_exporter": "python",
   "pygments_lexer": "ipython3",
   "version": "3.9.16"
  }
 },
 "nbformat": 4,
 "nbformat_minor": 5
}
